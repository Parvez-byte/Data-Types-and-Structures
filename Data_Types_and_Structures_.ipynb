{
  "nbformat": 4,
  "nbformat_minor": 0,
  "metadata": {
    "colab": {
      "provenance": []
    },
    "kernelspec": {
      "name": "python3",
      "display_name": "Python 3"
    },
    "language_info": {
      "name": "python"
    }
  },
  "cells": [
    {
      "cell_type": "code",
      "execution_count": null,
      "metadata": {
        "id": "LOY2vheQc5d-"
      },
      "outputs": [],
      "source": []
    },
    {
      "cell_type": "markdown",
      "source": [
        "#Data Types and Structures"
      ],
      "metadata": {
        "id": "qfhjTBavdMbk"
      }
    },
    {
      "cell_type": "markdown",
      "source": [
        "1. What are data structures , and why are they important ?\n",
        "- Data Structure is a way of organising and storing data so that they can be accessed and modified efficiantly.\n",
        "- Data structures are important because -\n",
        " * Data Management - they help organize large amount of data in a structured way.\n",
        " * Efficiency - Data structures allows efficient storage and retrival of data , which is important in applications where performance is critical.\n",
        " * Flexible - Data structures provide a flexible way to organise and store data allowing for easy modification and maipulation.\n",
        " * Reusability - Data structures can be used in multiple programs and applications, reducing the need for redundant code.\n",
        " * Problem Solving - Many algorithms rely on specific data structure to solve problems effectively.\n",
        "  \n"
      ],
      "metadata": {
        "id": "cfuvu47_dTmv"
      }
    },
    {
      "cell_type": "markdown",
      "source": [
        "2. Explain the difference between mutable and immutable data types with examples.\n",
        "- Mutable data types - A mutable data type is one whose values can be changed after creation.\n",
        "     * Memory location - Retains the same memory location even after the content is modified.\n",
        "     * Performance - It is memory-efficient, as no new objects are created for frequent changes.\n",
        "     * Thread-Safety - Not inherently thread-safe. concurrent modification can lead to unpredictable results.\n",
        "     * Use-cases - When you need to modify , add or remove existing data frequently.\n",
        "     * Examples of mutable data types - List , Dictionaries and sets.\n",
        "\n",
        "\n",
        "- Immutable data types - Data types whose values can't be changed or altered.\n",
        "     * Memory location - Any modification results in a new object and new memory location.\n",
        "     * Performance - It might be faster in some scenarios as there's no need to track changes.\n",
        "     * Thread-Safety - They are inherently thread-safe due to their unchangeable nature.\n",
        "     * Use-cases - When you want to ensure data remains consistant and unlaltered.\n",
        "     * Examples of immutable data types - Tuples , Integers and strings.\n"
      ],
      "metadata": {
        "id": "z2tk2Du7cLhX"
      }
    },
    {
      "cell_type": "markdown",
      "source": [
        "3. What are the main differences between list and tuples in python ?\n",
        "- The main difference between list and tuples is lists are mutable and can be modified after creation , while tuples are immutable , meaning their contents can not be changed after creation.\n",
        "- tuples are more memory-efficient compared to list.\n",
        "- Syntax - List can be defined using square brakets[ ], while tuples can be defined using parantheses ( ).\n"
      ],
      "metadata": {
        "id": "KrQ4pFZ8d980"
      }
    },
    {
      "cell_type": "markdown",
      "source": [
        "4. Describe how dictionaries store data.\n",
        "- Dictionaries store data in key-value pair. Each key must be unique and immutable. they use hashing system to make lookups super fast , so instead of searching through everything it goes straight to where the value is stored."
      ],
      "metadata": {
        "id": "6meOICjGeOS4"
      }
    },
    {
      "cell_type": "markdown",
      "source": [
        "5. Why might you use a set instead of a list in python ?\n",
        "- Set will be used instead of list when you need to store only unique items and quickly check if something is in the list in the collection.set automatically remove duplicates and are faster for lookups."
      ],
      "metadata": {
        "id": "ZM9h6x9ZejA4"
      }
    },
    {
      "cell_type": "markdown",
      "source": [
        "6. What is string in python , and how is it different from list ?\n",
        "- Strings in python are sequence of characters enclosed in quotes (\" or''). Example - A = \"Parvez\"\".\n",
        "- Lists are ordered collection of items enclosed in square brackets [ ].\n",
        "- Strings are immutable , meaning they can not be changed once created , while lists are mutable and can be modified as needed.\n",
        "- Strings can be indexed and sliced to access individual characters or substrings, while lists can be accessed using indicies to retrieve or modify elements.\n",
        "- Strings have a fixed length , while lists can be dynamically grow or shrink in size by adding or removing elements.\n",
        "\n",
        "\n"
      ],
      "metadata": {
        "id": "zDqtH5op-Rdb"
      }
    },
    {
      "cell_type": "markdown",
      "source": [
        "7. How do tuples ensure data integrity in python ?\n",
        "- Tuples ensure data integrity as they are immutable , meaning they can not be changed or modified after creation . This immutability ensures data remains cosistant and unaltered."
      ],
      "metadata": {
        "id": "umZWrC-H-h0t"
      }
    },
    {
      "cell_type": "markdown",
      "source": [
        "8. What is a hash table , and how does it related to python ?\n",
        "- A hash table in python is a data structure where data is stored in an associative manner . In hash tables , data is stored in an array format , with every data value having an exclusive or unique index value. this type of storage offers quick access to data if the index of the required is available.\n",
        "- It is related to Python as Dictionaries and sets are built using hash table.\n"
      ],
      "metadata": {
        "id": "TdGwltwl-xAm"
      }
    },
    {
      "cell_type": "markdown",
      "source": [
        "9. Can lists contain different data types in python ?\n",
        "- Yes , lists can contain different data types as list allows to store heterogeneous data."
      ],
      "metadata": {
        "id": "6vU7PznB--VV"
      }
    },
    {
      "cell_type": "markdown",
      "source": [
        "10. Explain Why strings are immutable in python.\n",
        "- String in python are immutable which means they can not be changed after they are created.\n",
        "- String are immutable because >>\n",
        "  * The immutability of python strings is very useful as it helps in hashing , performance optimization , safety , ease of use etc.\n"
      ],
      "metadata": {
        "id": "iLU1n4v8_LQY"
      }
    },
    {
      "cell_type": "markdown",
      "source": [
        "11. What advantages do dictionaries offer over list for certain tasks ?\n",
        "- Advantages of Dictionaries over list are -\n",
        "  * Fast lookup - Dictionaries provide constant time complexity 0(1) for lookups , making them highly efficient for retriving data.\n",
        "  * Flexibility - They can store any data types as values , including lists , other dictionaries , or custom objects.\n",
        "  * Clear Structure - The key-value pair structure makes it easy to understand and work with complex data mappings.\n",
        "  * Dynamic - Dictionaries can grow dynamically , allowing the addition and removal of key value pairs at runtime.\n",
        "  "
      ],
      "metadata": {
        "id": "fXS-tRZpoByW"
      }
    },
    {
      "cell_type": "markdown",
      "source": [
        "12. Describe a scenario where using  a tuple would be prefered over a list.\n",
        "- Tuple are immutable , meaning  their contents can not be changed after creation. so tuples will be prefered over list when you want to ensure data remains consistant and unlaltered.\n",
        "- Scenario - Imagine you are managing a system where each employee has a unique ID and name that are used together as an immutable identifier. This identifier should not be changed once assigned.So tuples would be prefered here."
      ],
      "metadata": {
        "id": "JsnvOZZ3-DdR"
      }
    },
    {
      "cell_type": "markdown",
      "source": [
        "13. How does sets handle duplicte values in python ?\n",
        "- Sets automatically remove duplicate values , so each element is unique. if one try to add the same item multiple times , the set will keep one copy only , which makes them useful for tasks that required distinct values , like removing duplicates from a list or checking for unique data."
      ],
      "metadata": {
        "id": "oW7-oP4T-n8A"
      }
    },
    {
      "cell_type": "markdown",
      "source": [
        "14. How does the \"in\" keyword work differently for lists and dictionaries ?\n",
        "- In lists \"in\" keyword checks if a specific value is present in the list , and in dictionaries \"in\" keyword checks if a specific key exists, not the value.\n",
        "\n"
      ],
      "metadata": {
        "id": "OQhS0veO-zuS"
      }
    },
    {
      "cell_type": "markdown",
      "source": [
        "15. Can you modify the elements of a tuple ? Explain why or why not.\n",
        "- No , you can not modify elements of tuples because tuples are immutable i.e can not be modified once created."
      ],
      "metadata": {
        "id": "QeAajW7n_LZf"
      }
    },
    {
      "cell_type": "markdown",
      "source": [
        "16. What is nested dictionary , and give an example of its use case ?\n",
        "- A nested dictionary is a dictionary inside a dictionary . it's a collection of dictionaries into one single dictionary.\n",
        "- use case - storing student grades for different subjects. This allows you to organize student information by their names or IDs, and for each student, store grades for multiple subjects in a nested dictionary.\n",
        "\n",
        "\n"
      ],
      "metadata": {
        "id": "I8iPZvDtKQcD"
      }
    },
    {
      "cell_type": "markdown",
      "source": [
        "17. Describe the time complexity of accessing elements in dictionaries.\n",
        "- The time complexity of retrieving a value by its key in a dictionary is 0(1). this is because dictionaries use a hash table internally which allows constant time lookup."
      ],
      "metadata": {
        "id": "Xxx-aCKJNilb"
      }
    },
    {
      "cell_type": "markdown",
      "source": [
        "18. In what situations are lists preferred over dictionaries ?\n",
        "- Lists are preferred over dictionaries when data order is important or when requirement is to record duplicate values. or when storing collection of items without the need of unique keys.  "
      ],
      "metadata": {
        "id": "pg3J6rfgP6BK"
      }
    },
    {
      "cell_type": "markdown",
      "source": [
        "19. Why are dictionaries considered unordered , and how does that affect data retrieval ?\n",
        "- A dictionary is termed as unordered collection of objects because dictionaries do not maintain any inherent order of the items based on when they were added.\n",
        "- It can affect data retrieval as looping over a dictionary with for key could yeild keys in arbitary order , affecting operation that depends on order consistancy.\n",
        "- But Starting from Python 3.7 , dictionaries do reatain insertion order as an implementation detail, mwaning elements apper in the order they added."
      ],
      "metadata": {
        "id": "5QzbEQ6PQaP6"
      }
    },
    {
      "cell_type": "markdown",
      "source": [
        "20. Explain the difference between a list and a dictionary in terms of data retrieval .\n",
        "- Data retrieval in list\n",
        "  * In lists data is accessed by index , retrieving an element by index is 0(1) (Constant time).\n",
        "  \n",
        "  * Syntax - list = [ 10 , 15 , 20 , 25 , 30]\n",
        "        print(list[3])  >> output >> 25\n",
        "\n",
        "- Data retrival in dictionary\n",
        "  * Dictionaries store data as key-value pair, and  elements are accessed using keys. Retrieving a value by key is on average 0 (1) due to hash-based implementation.\n",
        "\n",
        "  * Syntax - new_dict={\"name\": Parvez , \"age\":24}\n",
        "             print(new_dict[\"name\"]) >> output >> Parvez"
      ],
      "metadata": {
        "id": "qeypCyYpRCGB"
      }
    },
    {
      "cell_type": "markdown",
      "source": [
        "# Practicle Questions"
      ],
      "metadata": {
        "id": "pPeGGbo55xG5"
      }
    },
    {
      "cell_type": "code",
      "source": [
        "#1 Write a code to create a string with your name and print it.\n",
        "str1 = \"Saiyed Parvez Hasan\"\n",
        "print(str1)"
      ],
      "metadata": {
        "colab": {
          "base_uri": "https://localhost:8080/"
        },
        "id": "ElnSF4YF56Nn",
        "outputId": "e43584a3-2616-473f-efa0-5be5b43825ec"
      },
      "execution_count": null,
      "outputs": [
        {
          "output_type": "stream",
          "name": "stdout",
          "text": [
            "Saiyed Parvez Hasan\n"
          ]
        }
      ]
    },
    {
      "cell_type": "code",
      "source": [
        "#2 Write a code to find the length of the string \"Hello World\".\n",
        "str2 = \"Hello World\"\n",
        "print(len(str2))\n"
      ],
      "metadata": {
        "colab": {
          "base_uri": "https://localhost:8080/"
        },
        "id": "eKfdb7Wf56bn",
        "outputId": "046cf33c-c036-42a3-ccef-198b3a09a8e4"
      },
      "execution_count": null,
      "outputs": [
        {
          "output_type": "stream",
          "name": "stdout",
          "text": [
            "11\n"
          ]
        }
      ]
    },
    {
      "cell_type": "code",
      "source": [
        "#3 Write a code to slice the first 3 characters from the string \"Python Programming\".\n",
        "str3 = \"Python Programming\"\n",
        "sliced = str3[:3]\n",
        "print(sliced)"
      ],
      "metadata": {
        "colab": {
          "base_uri": "https://localhost:8080/"
        },
        "id": "NCxDuf2G56vd",
        "outputId": "2de50d3b-12cd-4525-8ed5-c60f66ebef48"
      },
      "execution_count": null,
      "outputs": [
        {
          "output_type": "stream",
          "name": "stdout",
          "text": [
            "Pyt\n"
          ]
        }
      ]
    },
    {
      "cell_type": "code",
      "source": [
        "#4 Write a code to convert the string \"hello\" to uppercase.\n",
        "str4 = \"hello\"\n",
        "print(str4.upper())\n"
      ],
      "metadata": {
        "colab": {
          "base_uri": "https://localhost:8080/"
        },
        "id": "v2nCEpDL566r",
        "outputId": "bec0594f-9b73-40ae-e559-69301d7280e9"
      },
      "execution_count": null,
      "outputs": [
        {
          "output_type": "stream",
          "name": "stdout",
          "text": [
            "HELLO\n"
          ]
        }
      ]
    },
    {
      "cell_type": "code",
      "source": [
        "#5 Write a code to replace the word \"apple\" with \"orange\" in the string \"I like apple\".\n",
        "str5 = \"I like apple\"\n",
        "print(str5.replace(\"apple\",\"orange\"))\n"
      ],
      "metadata": {
        "colab": {
          "base_uri": "https://localhost:8080/"
        },
        "id": "v46WSCFs57ET",
        "outputId": "89a9b306-14e0-48d5-a4ba-f089cd1e1864"
      },
      "execution_count": null,
      "outputs": [
        {
          "output_type": "stream",
          "name": "stdout",
          "text": [
            "I like orange\n"
          ]
        }
      ]
    },
    {
      "cell_type": "code",
      "source": [
        "#6 Write a code to create a list with the number 1 to 5 and print it .\n",
        "list1 = [1,2,3,4,5]\n",
        "print(list1)\n"
      ],
      "metadata": {
        "colab": {
          "base_uri": "https://localhost:8080/"
        },
        "id": "tE8sbF0557RP",
        "outputId": "b6c747c9-1530-4086-9e18-97d72466df5c"
      },
      "execution_count": null,
      "outputs": [
        {
          "output_type": "stream",
          "name": "stdout",
          "text": [
            "[1, 2, 3, 4, 5]\n"
          ]
        }
      ]
    },
    {
      "cell_type": "code",
      "source": [
        "#7 Write a code to append the number 10 to the list [1,2,3,4].\n",
        "list2 = [1,2,3,4]\n",
        "list2.append(10)\n",
        "print(list2)"
      ],
      "metadata": {
        "colab": {
          "base_uri": "https://localhost:8080/"
        },
        "id": "ZBs4VVfT57kZ",
        "outputId": "fa38af32-03ca-4d03-de67-3563fe4fc2a0"
      },
      "execution_count": null,
      "outputs": [
        {
          "output_type": "stream",
          "name": "stdout",
          "text": [
            "[1, 2, 3, 4, 10]\n"
          ]
        }
      ]
    },
    {
      "cell_type": "code",
      "source": [
        "#8 Write a code to remove the number 3 from the list [1,2,3,4,5].\n",
        "list3 = [1,2,3,4,5]\n",
        "list3.remove(3)\n",
        "print(list3)"
      ],
      "metadata": {
        "colab": {
          "base_uri": "https://localhost:8080/"
        },
        "id": "Om9b_CrB57uA",
        "outputId": "99472c98-6e2b-4b29-91ef-7e3e78a173ec"
      },
      "execution_count": null,
      "outputs": [
        {
          "output_type": "stream",
          "name": "stdout",
          "text": [
            "[1, 2, 4, 5]\n"
          ]
        }
      ]
    },
    {
      "cell_type": "code",
      "source": [
        "#9 Write a code to access the second element in the list ['a','b','c','d']\n",
        "list4 = ['a','b','c','d']\n",
        "print(list4[1])\n"
      ],
      "metadata": {
        "colab": {
          "base_uri": "https://localhost:8080/"
        },
        "id": "ZmPEIN1p573p",
        "outputId": "9c613002-46a3-4c61-ad65-63dde639e855"
      },
      "execution_count": null,
      "outputs": [
        {
          "output_type": "stream",
          "name": "stdout",
          "text": [
            "b\n"
          ]
        }
      ]
    },
    {
      "cell_type": "code",
      "source": [
        "#10 Write a code to reverse the list [10,20,30,40,50]\n",
        "list5 = [10,20,30,40,50]\n",
        "list5.reverse()\n",
        "print(list5)"
      ],
      "metadata": {
        "colab": {
          "base_uri": "https://localhost:8080/"
        },
        "id": "RWa438lC58BH",
        "outputId": "d5d26897-1df7-4313-b609-f23cd04ac949"
      },
      "execution_count": null,
      "outputs": [
        {
          "output_type": "stream",
          "name": "stdout",
          "text": [
            "[50, 40, 30, 20, 10]\n"
          ]
        }
      ]
    },
    {
      "cell_type": "code",
      "source": [
        "#11 Write a code to create a tuple with the elements 10,20,30 and print it.\n",
        "tuple1 = (10,20,30)\n",
        "print(tuple1)"
      ],
      "metadata": {
        "colab": {
          "base_uri": "https://localhost:8080/"
        },
        "id": "HF74Ss4N58Lc",
        "outputId": "036fe916-ea64-424c-b10a-0ffc9e3012b8"
      },
      "execution_count": null,
      "outputs": [
        {
          "output_type": "stream",
          "name": "stdout",
          "text": [
            "(10, 20, 30)\n"
          ]
        }
      ]
    },
    {
      "cell_type": "code",
      "source": [
        "#12 Write a code to access the first element of the tuple ('apple','banana','cherry').\n",
        "tuple2 = ('apple','banana','cherry')\n",
        "print(tuple2[0])"
      ],
      "metadata": {
        "colab": {
          "base_uri": "https://localhost:8080/"
        },
        "id": "DPbq_JV458Wp",
        "outputId": "e606f177-9672-4939-ae68-1de7e2832582"
      },
      "execution_count": null,
      "outputs": [
        {
          "output_type": "stream",
          "name": "stdout",
          "text": [
            "apple\n"
          ]
        }
      ]
    },
    {
      "cell_type": "code",
      "source": [
        "#13 Write a code to count how many times the number 2 appereas in the tuple (1,2,3,2,4,2).\n",
        "tuple3 = (1,2,3,2,4,2)\n",
        "print(tuple3.count(2))"
      ],
      "metadata": {
        "colab": {
          "base_uri": "https://localhost:8080/"
        },
        "id": "LnGakI4n58p1",
        "outputId": "be58350c-58a6-478c-907d-6b12d1b4b06a"
      },
      "execution_count": null,
      "outputs": [
        {
          "output_type": "stream",
          "name": "stdout",
          "text": [
            "3\n"
          ]
        }
      ]
    },
    {
      "cell_type": "code",
      "source": [
        "#14 Write a code to find the index of the element \"cat\" in the tuple ('dog','cat','rabbit').\n",
        "tuple4 = ('dog','cat','rabbit')\n",
        "print(tuple4.index('cat'))"
      ],
      "metadata": {
        "colab": {
          "base_uri": "https://localhost:8080/"
        },
        "id": "EIjR_sUU581A",
        "outputId": "50f92826-333d-4c2c-d771-6c8f98269bda"
      },
      "execution_count": null,
      "outputs": [
        {
          "output_type": "stream",
          "name": "stdout",
          "text": [
            "1\n"
          ]
        }
      ]
    },
    {
      "cell_type": "code",
      "source": [
        "#15 Write a code to check if the element \"banana\" is in the tuple ('apple','orange','banana').\n",
        "tuple5 = ('apple','orange','banana')\n",
        "if 'banana' in tuple5:\n",
        "  print(\"Yes , banana is in the tuple.\")\n",
        "else:\n",
        "  print(\"banana is not in the tuple.\")"
      ],
      "metadata": {
        "colab": {
          "base_uri": "https://localhost:8080/"
        },
        "id": "N87KIBqo58_T",
        "outputId": "19f6eddb-67a7-44fa-b034-f2caf5f86162"
      },
      "execution_count": null,
      "outputs": [
        {
          "output_type": "stream",
          "name": "stdout",
          "text": [
            "Yes , banana is in the tuple.\n"
          ]
        }
      ]
    },
    {
      "cell_type": "code",
      "source": [
        "#16 Write a code to create a set with the elements 1,2,3,4,5 and print it.\n",
        "set1 = {1,2,3,4,5}\n",
        "print(set1)"
      ],
      "metadata": {
        "colab": {
          "base_uri": "https://localhost:8080/"
        },
        "id": "BjzNabYq59J7",
        "outputId": "25819cba-d391-40ef-984c-2a401fce48b4"
      },
      "execution_count": null,
      "outputs": [
        {
          "output_type": "stream",
          "name": "stdout",
          "text": [
            "{1, 2, 3, 4, 5}\n"
          ]
        }
      ]
    },
    {
      "cell_type": "code",
      "source": [
        "#17 Write a code to add the element 6 to the set {1,2,3,4}.\n",
        "set2 = {1,2,3,4}\n",
        "set2.add(6)\n",
        "print(set2)"
      ],
      "metadata": {
        "colab": {
          "base_uri": "https://localhost:8080/"
        },
        "id": "3-ryPrAL59UY",
        "outputId": "cdf29e43-ba1b-465b-be5c-db9ca23d9289"
      },
      "execution_count": null,
      "outputs": [
        {
          "output_type": "stream",
          "name": "stdout",
          "text": [
            "{1, 2, 3, 4, 6}\n"
          ]
        }
      ]
    },
    {
      "cell_type": "code",
      "source": [
        "#18 Write a code to create a tuple with the elements 10,20,30 and print it.\n",
        "tuple6 = (10,20,30)\n",
        "print(tuple6)"
      ],
      "metadata": {
        "colab": {
          "base_uri": "https://localhost:8080/"
        },
        "id": "75nblbMV59gE",
        "outputId": "74f99f1e-b4f4-483c-e9bd-8cebad757a86"
      },
      "execution_count": null,
      "outputs": [
        {
          "output_type": "stream",
          "name": "stdout",
          "text": [
            "(10, 20, 30)\n"
          ]
        }
      ]
    },
    {
      "cell_type": "code",
      "source": [
        "#19 Write a code to access the first element of the tuple ('apple','banana','cherry').\n",
        "tuple7 = ('apple','banana','cherry')\n",
        "print(tuple7[0])"
      ],
      "metadata": {
        "colab": {
          "base_uri": "https://localhost:8080/"
        },
        "id": "PW9YBVIl59qL",
        "outputId": "d2bc383d-b01c-4bce-9f67-4e40486dca5c"
      },
      "execution_count": null,
      "outputs": [
        {
          "output_type": "stream",
          "name": "stdout",
          "text": [
            "apple\n"
          ]
        }
      ]
    },
    {
      "cell_type": "code",
      "source": [
        "#20  Write a code to count how many times the number 2 appereas in the tuple (1,2,3,2,4,2).\n",
        "tuple8 = (1,2,3,2,4,2)\n",
        "print(tuple8.count(2))"
      ],
      "metadata": {
        "colab": {
          "base_uri": "https://localhost:8080/"
        },
        "id": "P7ZSJFpS591L",
        "outputId": "2d35fdd3-6036-47c6-df12-8266f5135332"
      },
      "execution_count": null,
      "outputs": [
        {
          "output_type": "stream",
          "name": "stdout",
          "text": [
            "3\n"
          ]
        }
      ]
    },
    {
      "cell_type": "code",
      "source": [
        "#21 Write a code to find the index of the element \"cat\" in the tuple ('dog','cat','rabbit').\n",
        "tuple4 = ('dog','cat','rabbit')\n",
        "print(tuple4.index('cat'))"
      ],
      "metadata": {
        "colab": {
          "base_uri": "https://localhost:8080/"
        },
        "id": "_n3CiTKn5-Az",
        "outputId": "7310b5b4-2951-449e-892d-4edcb07ce72d"
      },
      "execution_count": null,
      "outputs": [
        {
          "output_type": "stream",
          "name": "stdout",
          "text": [
            "1\n"
          ]
        }
      ]
    },
    {
      "cell_type": "code",
      "source": [
        "#22 Write a code to check if the element \"banana\" is in the tuple ('apple','orange','banana').\n",
        "tuple5 = ('apple','orange','banana')\n",
        "if 'banana' in tuple5:\n",
        "  print(\"Yes , banana is in the tuple.\")\n",
        "else:\n",
        "  print(\"banana is not in the tuple.\")"
      ],
      "metadata": {
        "colab": {
          "base_uri": "https://localhost:8080/"
        },
        "id": "WvXXqq-35-L-",
        "outputId": "5638750f-a5cb-4262-9d99-4a905ba42ee0"
      },
      "execution_count": null,
      "outputs": [
        {
          "output_type": "stream",
          "name": "stdout",
          "text": [
            "Yes , banana is in the tuple.\n"
          ]
        }
      ]
    },
    {
      "cell_type": "code",
      "source": [
        "#23 Write a code to create a set with the elements 1,2,3,4,5 and print it.\n",
        "set1 = {1,2,3,4,5}\n",
        "print(set1)"
      ],
      "metadata": {
        "colab": {
          "base_uri": "https://localhost:8080/"
        },
        "id": "XeL5TeCr5-ju",
        "outputId": "cb6c4c6e-9c5e-49bf-a28f-88880116c911"
      },
      "execution_count": null,
      "outputs": [
        {
          "output_type": "stream",
          "name": "stdout",
          "text": [
            "{1, 2, 3, 4, 5}\n"
          ]
        }
      ]
    },
    {
      "cell_type": "code",
      "source": [
        "#24 Write a code to add the element 6 to the set {1,2,3,4}.\n",
        "set2 = {1,2,3,4}\n",
        "set2.add(6)\n",
        "print(set2)"
      ],
      "metadata": {
        "colab": {
          "base_uri": "https://localhost:8080/"
        },
        "id": "tIDAjG3d5-5x",
        "outputId": "45d23fef-3342-450b-d3c5-076bfef3d379"
      },
      "execution_count": null,
      "outputs": [
        {
          "output_type": "stream",
          "name": "stdout",
          "text": [
            "{1, 2, 3, 4, 6}\n"
          ]
        }
      ]
    }
  ]
}